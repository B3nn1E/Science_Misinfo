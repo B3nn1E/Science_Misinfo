{
 "cells": [
  {
   "cell_type": "markdown",
   "metadata": {},
   "source": [
    "## Website Project (1)\n",
    "\n",
    "### Create a website that has a textbox asked to input URL, then take the URL in the box to add in the table. Make URL in hyperlink if possible\n",
    " Hint:\n",
    "- Use streamlit, append list to panda dataframe.\n",
    "- Steps: Create streamlist website with title and textbox. Then append URL to a list. Convert the list to Pandas dataframe. Show dataframe thru streamlit function. \n",
    "- Save the link to a file then upload to the website when open the website again. \n"
   ]
  },
  {
   "cell_type": "code",
   "execution_count": null,
   "metadata": {},
   "outputs": [],
   "source": [
    "import streamlit as st\n",
    "import pandas as pd"
   ]
  },
  {
   "cell_type": "code",
   "execution_count": null,
   "metadata": {},
   "outputs": [
    {
     "data": {
      "text/plain": [
       "DeltaGenerator()"
      ]
     },
     "execution_count": 8,
     "metadata": {},
     "output_type": "execute_result"
    }
   ],
   "source": [
    "#Website Title and Search Bar\n",
    "st.set_page_config (page_title=\"Welcome!\", page_icon=\":robot:\", layout=\"wide\") \n",
    "url = st.text_input (\"Please enter your URL here 👇\")\n",
    "\n",
    "#Append URL to list\n",
    "web = [] \n",
    "if url: \n",
    "    url.append(web)\n",
    "    \n",
    "#Convert and show dataframe\n",
    "df = pd.DataFrame(web) \n",
    "st.dataframe(web)"
   ]
  },
  {
   "cell_type": "code",
   "execution_count": null,
   "metadata": {},
   "outputs": [
    {
     "ename": "SyntaxError",
     "evalue": "invalid syntax (2023501057.py, line 1)",
     "output_type": "error",
     "traceback": [
      "\u001b[1;36m  Cell \u001b[1;32mIn[1], line 1\u001b[1;36m\u001b[0m\n\u001b[1;33m    streamlit run [Web_Project(1)]\u001b[0m\n\u001b[1;37m              ^\u001b[0m\n\u001b[1;31mSyntaxError\u001b[0m\u001b[1;31m:\u001b[0m invalid syntax\n"
     ]
    }
   ],
   "source": [
    "streamlit run [Web_Project(1)]"
   ]
  },
  {
   "cell_type": "code",
   "execution_count": null,
   "metadata": {},
   "outputs": [],
   "source": [
    "st.write(\n",
    "       f'<iframe src=\"https://streamlit.io\"></iframe>',\n",
    "        unsafe_allow_html=True,\n",
    "    )"
   ]
  },
  {
   "cell_type": "code",
   "execution_count": null,
   "metadata": {},
   "outputs": [],
   "source": [
    "web = pd.DataFrame(columns=['Website'])\n",
    "print (web)"
   ]
  }
 ],
 "metadata": {
  "kernelspec": {
   "display_name": "Python 3",
   "language": "python",
   "name": "python3"
  },
  "language_info": {
   "codemirror_mode": {
    "name": "ipython",
    "version": 3
   },
   "file_extension": ".py",
   "mimetype": "text/x-python",
   "name": "python",
   "nbconvert_exporter": "python",
   "pygments_lexer": "ipython3",
   "version": "3.11.1"
  }
 },
 "nbformat": 4,
 "nbformat_minor": 2
}
